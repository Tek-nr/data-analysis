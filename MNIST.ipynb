{
  "nbformat": 4,
  "nbformat_minor": 0,
  "metadata": {
    "colab": {
      "name": "Untitled0.ipynb",
      "provenance": [],
      "collapsed_sections": []
    },
    "kernelspec": {
      "name": "python3",
      "display_name": "Python 3"
    },
    "language_info": {
      "name": "python"
    }
  },
  "cells": [
    {
      "cell_type": "code",
      "metadata": {
        "id": "ttxbdZg98P4-"
      },
      "source": [
        "import tensorflow as tf\n",
        "import keras \n",
        "import numpy as np\n",
        "import matplotlib.pyplot as plt"
      ],
      "execution_count": 74,
      "outputs": []
    },
    {
      "cell_type": "code",
      "metadata": {
        "id": "6avhPql5PIS9"
      },
      "source": [
        "class myCallback(tf.keras.callbacks.Callback):\n",
        "  def on_epoch_end(self,epoch,logs={}):\n",
        "    if(logs.get('loss')<0.4):\n",
        "      print(\"\\nReached 60% accuracy so cancelling training!\")\n",
        "      self.model.stop_training = True"
      ],
      "execution_count": 75,
      "outputs": []
    },
    {
      "cell_type": "code",
      "metadata": {
        "id": "6aSjyX1g8VjE"
      },
      "source": [
        "callbacks = myCallback()\n",
        "fashion_mnist = keras.datasets.fashion_mnist\n",
        "(train_images, train_labels), (test_images, test_labels) = fashion_mnist.load_data()"
      ],
      "execution_count": 76,
      "outputs": []
    },
    {
      "cell_type": "code",
      "metadata": {
        "colab": {
          "base_uri": "https://localhost:8080/"
        },
        "id": "EvUp3lZc-g1w",
        "outputId": "246a4293-1295-4052-db81-45cc27cda4a1"
      },
      "source": [
        "train_images.shape"
      ],
      "execution_count": 77,
      "outputs": [
        {
          "output_type": "execute_result",
          "data": {
            "text/plain": [
              "(60000, 28, 28)"
            ]
          },
          "metadata": {
            "tags": []
          },
          "execution_count": 77
        }
      ]
    },
    {
      "cell_type": "code",
      "metadata": {
        "colab": {
          "base_uri": "https://localhost:8080/"
        },
        "id": "_Bx-Bfsv_H-7",
        "outputId": "8b5e2c5e-0490-481d-c5f8-97b45ec7962e"
      },
      "source": [
        "train_images[0]"
      ],
      "execution_count": 78,
      "outputs": [
        {
          "output_type": "execute_result",
          "data": {
            "text/plain": [
              "array([[  0,   0,   0,   0,   0,   0,   0,   0,   0,   0,   0,   0,   0,\n",
              "          0,   0,   0,   0,   0,   0,   0,   0,   0,   0,   0,   0,   0,\n",
              "          0,   0],\n",
              "       [  0,   0,   0,   0,   0,   0,   0,   0,   0,   0,   0,   0,   0,\n",
              "          0,   0,   0,   0,   0,   0,   0,   0,   0,   0,   0,   0,   0,\n",
              "          0,   0],\n",
              "       [  0,   0,   0,   0,   0,   0,   0,   0,   0,   0,   0,   0,   0,\n",
              "          0,   0,   0,   0,   0,   0,   0,   0,   0,   0,   0,   0,   0,\n",
              "          0,   0],\n",
              "       [  0,   0,   0,   0,   0,   0,   0,   0,   0,   0,   0,   0,   1,\n",
              "          0,   0,  13,  73,   0,   0,   1,   4,   0,   0,   0,   0,   1,\n",
              "          1,   0],\n",
              "       [  0,   0,   0,   0,   0,   0,   0,   0,   0,   0,   0,   0,   3,\n",
              "          0,  36, 136, 127,  62,  54,   0,   0,   0,   1,   3,   4,   0,\n",
              "          0,   3],\n",
              "       [  0,   0,   0,   0,   0,   0,   0,   0,   0,   0,   0,   0,   6,\n",
              "          0, 102, 204, 176, 134, 144, 123,  23,   0,   0,   0,   0,  12,\n",
              "         10,   0],\n",
              "       [  0,   0,   0,   0,   0,   0,   0,   0,   0,   0,   0,   0,   0,\n",
              "          0, 155, 236, 207, 178, 107, 156, 161, 109,  64,  23,  77, 130,\n",
              "         72,  15],\n",
              "       [  0,   0,   0,   0,   0,   0,   0,   0,   0,   0,   0,   1,   0,\n",
              "         69, 207, 223, 218, 216, 216, 163, 127, 121, 122, 146, 141,  88,\n",
              "        172,  66],\n",
              "       [  0,   0,   0,   0,   0,   0,   0,   0,   0,   1,   1,   1,   0,\n",
              "        200, 232, 232, 233, 229, 223, 223, 215, 213, 164, 127, 123, 196,\n",
              "        229,   0],\n",
              "       [  0,   0,   0,   0,   0,   0,   0,   0,   0,   0,   0,   0,   0,\n",
              "        183, 225, 216, 223, 228, 235, 227, 224, 222, 224, 221, 223, 245,\n",
              "        173,   0],\n",
              "       [  0,   0,   0,   0,   0,   0,   0,   0,   0,   0,   0,   0,   0,\n",
              "        193, 228, 218, 213, 198, 180, 212, 210, 211, 213, 223, 220, 243,\n",
              "        202,   0],\n",
              "       [  0,   0,   0,   0,   0,   0,   0,   0,   0,   1,   3,   0,  12,\n",
              "        219, 220, 212, 218, 192, 169, 227, 208, 218, 224, 212, 226, 197,\n",
              "        209,  52],\n",
              "       [  0,   0,   0,   0,   0,   0,   0,   0,   0,   0,   6,   0,  99,\n",
              "        244, 222, 220, 218, 203, 198, 221, 215, 213, 222, 220, 245, 119,\n",
              "        167,  56],\n",
              "       [  0,   0,   0,   0,   0,   0,   0,   0,   0,   4,   0,   0,  55,\n",
              "        236, 228, 230, 228, 240, 232, 213, 218, 223, 234, 217, 217, 209,\n",
              "         92,   0],\n",
              "       [  0,   0,   1,   4,   6,   7,   2,   0,   0,   0,   0,   0, 237,\n",
              "        226, 217, 223, 222, 219, 222, 221, 216, 223, 229, 215, 218, 255,\n",
              "         77,   0],\n",
              "       [  0,   3,   0,   0,   0,   0,   0,   0,   0,  62, 145, 204, 228,\n",
              "        207, 213, 221, 218, 208, 211, 218, 224, 223, 219, 215, 224, 244,\n",
              "        159,   0],\n",
              "       [  0,   0,   0,   0,  18,  44,  82, 107, 189, 228, 220, 222, 217,\n",
              "        226, 200, 205, 211, 230, 224, 234, 176, 188, 250, 248, 233, 238,\n",
              "        215,   0],\n",
              "       [  0,  57, 187, 208, 224, 221, 224, 208, 204, 214, 208, 209, 200,\n",
              "        159, 245, 193, 206, 223, 255, 255, 221, 234, 221, 211, 220, 232,\n",
              "        246,   0],\n",
              "       [  3, 202, 228, 224, 221, 211, 211, 214, 205, 205, 205, 220, 240,\n",
              "         80, 150, 255, 229, 221, 188, 154, 191, 210, 204, 209, 222, 228,\n",
              "        225,   0],\n",
              "       [ 98, 233, 198, 210, 222, 229, 229, 234, 249, 220, 194, 215, 217,\n",
              "        241,  65,  73, 106, 117, 168, 219, 221, 215, 217, 223, 223, 224,\n",
              "        229,  29],\n",
              "       [ 75, 204, 212, 204, 193, 205, 211, 225, 216, 185, 197, 206, 198,\n",
              "        213, 240, 195, 227, 245, 239, 223, 218, 212, 209, 222, 220, 221,\n",
              "        230,  67],\n",
              "       [ 48, 203, 183, 194, 213, 197, 185, 190, 194, 192, 202, 214, 219,\n",
              "        221, 220, 236, 225, 216, 199, 206, 186, 181, 177, 172, 181, 205,\n",
              "        206, 115],\n",
              "       [  0, 122, 219, 193, 179, 171, 183, 196, 204, 210, 213, 207, 211,\n",
              "        210, 200, 196, 194, 191, 195, 191, 198, 192, 176, 156, 167, 177,\n",
              "        210,  92],\n",
              "       [  0,   0,  74, 189, 212, 191, 175, 172, 175, 181, 185, 188, 189,\n",
              "        188, 193, 198, 204, 209, 210, 210, 211, 188, 188, 194, 192, 216,\n",
              "        170,   0],\n",
              "       [  2,   0,   0,   0,  66, 200, 222, 237, 239, 242, 246, 243, 244,\n",
              "        221, 220, 193, 191, 179, 182, 182, 181, 176, 166, 168,  99,  58,\n",
              "          0,   0],\n",
              "       [  0,   0,   0,   0,   0,   0,   0,  40,  61,  44,  72,  41,  35,\n",
              "          0,   0,   0,   0,   0,   0,   0,   0,   0,   0,   0,   0,   0,\n",
              "          0,   0],\n",
              "       [  0,   0,   0,   0,   0,   0,   0,   0,   0,   0,   0,   0,   0,\n",
              "          0,   0,   0,   0,   0,   0,   0,   0,   0,   0,   0,   0,   0,\n",
              "          0,   0],\n",
              "       [  0,   0,   0,   0,   0,   0,   0,   0,   0,   0,   0,   0,   0,\n",
              "          0,   0,   0,   0,   0,   0,   0,   0,   0,   0,   0,   0,   0,\n",
              "          0,   0]], dtype=uint8)"
            ]
          },
          "metadata": {
            "tags": []
          },
          "execution_count": 78
        }
      ]
    },
    {
      "cell_type": "code",
      "metadata": {
        "colab": {
          "base_uri": "https://localhost:8080/"
        },
        "id": "OhaYLxbX_ZH9",
        "outputId": "55c39103-1835-4bcf-83d8-fd2d26cc0c10"
      },
      "source": [
        "train_labels[0]"
      ],
      "execution_count": 79,
      "outputs": [
        {
          "output_type": "execute_result",
          "data": {
            "text/plain": [
              "9"
            ]
          },
          "metadata": {
            "tags": []
          },
          "execution_count": 79
        }
      ]
    },
    {
      "cell_type": "code",
      "metadata": {
        "colab": {
          "base_uri": "https://localhost:8080/"
        },
        "id": "yBImxtnt_pUI",
        "outputId": "c2a05595-1c07-4069-98e5-2c464a9fc44b"
      },
      "source": [
        "train_labels"
      ],
      "execution_count": 80,
      "outputs": [
        {
          "output_type": "execute_result",
          "data": {
            "text/plain": [
              "array([9, 0, 0, ..., 3, 0, 5], dtype=uint8)"
            ]
          },
          "metadata": {
            "tags": []
          },
          "execution_count": 80
        }
      ]
    },
    {
      "cell_type": "code",
      "metadata": {
        "colab": {
          "base_uri": "https://localhost:8080/"
        },
        "id": "373x4iVLHU3V",
        "outputId": "ccad6f31-bf0d-4892-9007-a963cdbd372b"
      },
      "source": [
        "test_images.shape"
      ],
      "execution_count": 81,
      "outputs": [
        {
          "output_type": "execute_result",
          "data": {
            "text/plain": [
              "(10000, 28, 28)"
            ]
          },
          "metadata": {
            "tags": []
          },
          "execution_count": 81
        }
      ]
    },
    {
      "cell_type": "code",
      "metadata": {
        "colab": {
          "base_uri": "https://localhost:8080/"
        },
        "id": "N24etgsPHe_3",
        "outputId": "34d6cfd7-3afa-46b7-fb3d-2c47d18e1e0d"
      },
      "source": [
        "test_labels.shape"
      ],
      "execution_count": 82,
      "outputs": [
        {
          "output_type": "execute_result",
          "data": {
            "text/plain": [
              "(10000,)"
            ]
          },
          "metadata": {
            "tags": []
          },
          "execution_count": 82
        }
      ]
    },
    {
      "cell_type": "code",
      "metadata": {
        "id": "L3xyDCxQOBeI"
      },
      "source": [
        "test_images = test_images/255 #neural networks work better with normalized data\n",
        "train_images = train_images/255"
      ],
      "execution_count": 83,
      "outputs": []
    },
    {
      "cell_type": "code",
      "metadata": {
        "colab": {
          "base_uri": "https://localhost:8080/",
          "height": 1000
        },
        "id": "jhISHSPiNUnU",
        "outputId": "49e76714-cf09-4325-c334-0ddaf4710d65"
      },
      "source": [
        "plt.imshow(train_images[55])\n",
        "print(train_images[55])"
      ],
      "execution_count": 84,
      "outputs": [
        {
          "output_type": "stream",
          "text": [
            "[[0.         0.         0.         0.         0.         0.\n",
            "  0.         0.         0.         0.         0.29411765 0.52941176\n",
            "  0.43137255 0.2745098  0.23137255 0.31764706 0.53333333 0.60392157\n",
            "  0.35294118 0.         0.         0.         0.00392157 0.\n",
            "  0.         0.         0.         0.        ]\n",
            " [0.         0.         0.         0.         0.00392157 0.\n",
            "  0.         0.03529412 0.50196078 0.83137255 0.77254902 0.80784314\n",
            "  0.95686275 0.84705882 0.66666667 0.97254902 0.92156863 0.79607843\n",
            "  0.90980392 0.89803922 0.50196078 0.         0.         0.\n",
            "  0.         0.         0.         0.        ]\n",
            " [0.         0.         0.         0.00392157 0.         0.\n",
            "  0.45490196 0.69803922 0.75294118 0.71372549 0.65882353 0.59215686\n",
            "  0.60392157 0.70196078 0.76862745 0.70196078 0.65098039 0.69803922\n",
            "  0.73333333 0.75294118 0.80784314 0.76078431 0.24313725 0.\n",
            "  0.         0.         0.         0.        ]\n",
            " [0.         0.         0.         0.         0.         0.30196078\n",
            "  0.74509804 0.67843137 0.69019608 0.71372549 0.66666667 0.72941176\n",
            "  0.65882353 0.66666667 0.75686275 0.69411765 0.75686275 0.70980392\n",
            "  0.74901961 0.79607843 0.71372549 0.77254902 0.8        0.00784314\n",
            "  0.         0.         0.         0.        ]\n",
            " [0.         0.         0.         0.         0.         0.65490196\n",
            "  0.69411765 0.67058824 0.6745098  0.72156863 0.64705882 0.71764706\n",
            "  0.69803922 0.56862745 0.70196078 0.81960784 0.68235294 0.6745098\n",
            "  0.75686275 0.80392157 0.74117647 0.74901961 0.83921569 0.41960784\n",
            "  0.         0.         0.         0.        ]\n",
            " [0.         0.         0.         0.         0.01568627 0.76470588\n",
            "  0.69411765 0.70196078 0.67058824 0.72941176 0.62352941 0.72941176\n",
            "  0.68627451 0.55686275 0.6627451  0.75686275 0.64313725 0.6745098\n",
            "  0.77254902 0.8        0.76862745 0.78431373 0.81568627 0.70980392\n",
            "  0.         0.         0.         0.        ]\n",
            " [0.         0.         0.         0.         0.09019608 0.69803922\n",
            "  0.68627451 0.74509804 0.63921569 0.65098039 0.64313725 0.67843137\n",
            "  0.70980392 0.61176471 0.65490196 0.70196078 0.63137255 0.69803922\n",
            "  0.76470588 0.79607843 0.81176471 0.78823529 0.78823529 0.85490196\n",
            "  0.         0.         0.         0.        ]\n",
            " [0.         0.         0.         0.         0.33333333 0.70588235\n",
            "  0.68627451 0.77647059 0.59607843 0.60392157 0.62352941 0.64705882\n",
            "  0.7254902  0.63137255 0.59215686 0.63529412 0.61568627 0.69803922\n",
            "  0.75686275 0.79607843 0.81960784 0.80784314 0.76862745 0.92156863\n",
            "  0.25490196 0.         0.         0.        ]\n",
            " [0.         0.         0.         0.         0.56470588 0.72156863\n",
            "  0.69803922 0.8        0.60392157 0.61568627 0.66666667 0.69411765\n",
            "  0.74117647 0.62352941 0.6        0.64313725 0.63137255 0.70196078\n",
            "  0.77254902 0.79607843 0.83921569 0.83529412 0.76078431 0.83529412\n",
            "  0.4745098  0.         0.         0.        ]\n",
            " [0.         0.         0.         0.         0.84705882 0.75294118\n",
            "  0.71764706 0.77254902 0.68627451 0.64313725 0.69803922 0.71372549\n",
            "  0.78039216 0.63921569 0.63137255 0.67843137 0.64705882 0.72941176\n",
            "  0.79607843 0.79607843 0.87058824 0.81960784 0.78431373 0.88627451\n",
            "  0.6        0.         0.         0.        ]\n",
            " [0.         0.         0.         0.         0.23137255 0.6745098\n",
            "  0.78431373 0.77254902 0.67058824 0.63921569 0.69803922 0.70980392\n",
            "  0.76862745 0.6745098  0.68235294 0.6745098  0.64313725 0.7254902\n",
            "  0.79215686 0.79215686 0.84313725 0.80784314 0.89019608 0.63137255\n",
            "  0.         0.         0.         0.        ]\n",
            " [0.         0.         0.         0.         0.         0.\n",
            "  0.70588235 0.85882353 0.65490196 0.65098039 0.6745098  0.68235294\n",
            "  0.76862745 0.57254902 0.60784314 0.70196078 0.64705882 0.73333333\n",
            "  0.79215686 0.78823529 0.85490196 1.         0.58823529 0.\n",
            "  0.         0.         0.         0.        ]\n",
            " [0.         0.         0.         0.         0.         0.\n",
            "  0.         0.59607843 0.77254902 0.65490196 0.68235294 0.69019608\n",
            "  0.75294118 0.60784314 0.68235294 0.69411765 0.65098039 0.7372549\n",
            "  0.78431373 0.80392157 0.8745098  0.30196078 0.         0.\n",
            "  0.         0.         0.         0.        ]\n",
            " [0.         0.         0.         0.         0.         0.\n",
            "  0.         0.         0.71372549 0.67843137 0.68627451 0.69411765\n",
            "  0.72941176 0.61960784 0.67843137 0.68235294 0.6627451  0.76078431\n",
            "  0.76470588 0.85882353 0.43921569 0.         0.         0.\n",
            "  0.         0.         0.         0.        ]\n",
            " [0.         0.         0.         0.         0.00392157 0.\n",
            "  0.         0.         0.75294118 0.68235294 0.69019608 0.70588235\n",
            "  0.72156863 0.68627451 0.72156863 0.6745098  0.6627451  0.77647059\n",
            "  0.74509804 0.84313725 0.70588235 0.         0.         0.\n",
            "  0.         0.         0.         0.        ]\n",
            " [0.         0.         0.         0.         0.         0.00784314\n",
            "  0.         0.01568627 0.78823529 0.67843137 0.68627451 0.70588235\n",
            "  0.74901961 0.69803922 0.67843137 0.67058824 0.69019608 0.77254902\n",
            "  0.76862745 0.80784314 0.8745098  0.         0.         0.\n",
            "  0.         0.         0.         0.        ]\n",
            " [0.         0.         0.         0.         0.         0.01176471\n",
            "  0.         0.01568627 0.78823529 0.68235294 0.69411765 0.69803922\n",
            "  0.76470588 0.70196078 0.65098039 0.67058824 0.72941176 0.77647059\n",
            "  0.77254902 0.78823529 0.82745098 0.08235294 0.         0.00392157\n",
            "  0.         0.         0.         0.        ]\n",
            " [0.         0.         0.         0.         0.         0.00392157\n",
            "  0.         0.0745098  0.81960784 0.68235294 0.70588235 0.70588235\n",
            "  0.76470588 0.71372549 0.64705882 0.67843137 0.75294118 0.77647059\n",
            "  0.78039216 0.77647059 0.8627451  0.29411765 0.         0.00784314\n",
            "  0.         0.         0.         0.        ]\n",
            " [0.         0.         0.         0.         0.         0.00392157\n",
            "  0.         0.19215686 0.71764706 0.68627451 0.70980392 0.70980392\n",
            "  0.76862745 0.72156863 0.65490196 0.70196078 0.74901961 0.76862745\n",
            "  0.78431373 0.77254902 0.85098039 0.56078431 0.         0.\n",
            "  0.         0.         0.         0.        ]\n",
            " [0.         0.         0.         0.00392157 0.         0.00784314\n",
            "  0.         0.32941176 0.71372549 0.68627451 0.70980392 0.71764706\n",
            "  0.78039216 0.72156863 0.66666667 0.69803922 0.75294118 0.77254902\n",
            "  0.77647059 0.76078431 0.82352941 0.79607843 0.         0.\n",
            "  0.         0.         0.         0.        ]\n",
            " [0.         0.         0.         0.         0.         0.01176471\n",
            "  0.         0.40784314 0.7254902  0.68627451 0.72941176 0.72941176\n",
            "  0.78039216 0.7254902  0.69411765 0.71372549 0.77254902 0.77254902\n",
            "  0.77647059 0.76862745 0.8        0.90980392 0.         0.\n",
            "  0.00392157 0.         0.         0.        ]\n",
            " [0.         0.         0.         0.         0.         0.\n",
            "  0.         0.59215686 0.72156863 0.70196078 0.72941176 0.7372549\n",
            "  0.78039216 0.72156863 0.71372549 0.7254902  0.78039216 0.77647059\n",
            "  0.78431373 0.77647059 0.78039216 0.83921569 0.10196078 0.\n",
            "  0.00392157 0.         0.         0.        ]\n",
            " [0.         0.         0.         0.         0.00784314 0.\n",
            "  0.         0.74901961 0.69803922 0.72941176 0.74117647 0.73333333\n",
            "  0.74901961 0.68627451 0.70980392 0.74117647 0.76862745 0.76862745\n",
            "  0.78431373 0.79215686 0.76862745 0.8745098  0.34509804 0.\n",
            "  0.00784314 0.         0.         0.        ]\n",
            " [0.         0.         0.         0.         0.02352941 0.\n",
            "  0.18431373 0.72156863 0.69019608 0.74117647 0.74117647 0.71372549\n",
            "  0.68627451 0.68235294 0.73333333 0.7254902  0.74901961 0.78823529\n",
            "  0.77254902 0.78039216 0.77254902 0.83921569 0.70588235 0.\n",
            "  0.         0.         0.         0.        ]\n",
            " [0.         0.         0.         0.         0.00784314 0.\n",
            "  0.61568627 0.69803922 0.71764706 0.73333333 0.74509804 0.74901961\n",
            "  0.78039216 0.82352941 0.78431373 0.77254902 0.78823529 0.77647059\n",
            "  0.77254902 0.79215686 0.79607843 0.82352941 0.70196078 0.\n",
            "  0.         0.         0.         0.        ]\n",
            " [0.         0.         0.         0.         0.00784314 0.\n",
            "  0.42745098 0.87058824 0.81568627 0.81960784 0.83137255 0.82745098\n",
            "  0.83529412 0.85098039 0.87058824 0.84313725 0.83921569 0.84313725\n",
            "  0.84705882 0.85882353 0.87058824 0.93333333 0.45490196 0.\n",
            "  0.         0.         0.         0.        ]\n",
            " [0.         0.         0.         0.         0.00392157 0.\n",
            "  0.         0.47843137 0.82745098 0.90196078 0.89411765 0.95294118\n",
            "  0.92156863 0.9254902  0.9254902  0.90980392 0.9372549  0.95294118\n",
            "  0.97647059 0.98039216 0.95686275 0.48627451 0.         0.\n",
            "  0.         0.         0.         0.        ]\n",
            " [0.         0.         0.         0.         0.00392157 0.\n",
            "  0.         0.         0.         0.28627451 0.45490196 0.58039216\n",
            "  0.64705882 0.62745098 0.62352941 0.61960784 0.61176471 0.50196078\n",
            "  0.35686275 0.07843137 0.         0.         0.         0.\n",
            "  0.         0.         0.         0.        ]]\n"
          ],
          "name": "stdout"
        },
        {
          "output_type": "display_data",
          "data": {
            "image/png": "[encoded data removed]",
            "text/plain": [
              "<Figure size 432x288 with 1 Axes>"
            ]
          },
          "metadata": {
            "tags": [],
            "needs_background": "light"
          }
        }
      ]
    },
    {
      "cell_type": "code",
      "metadata": {
        "id": "x6dctqCFHijk"
      },
      "source": [
        "model = keras.Sequential([\n",
        "                          keras.layers.Flatten(input_shape=(28,28)), #Flatten takes this 28 by 28 square and turns it into a simple linear array\n",
        "                          keras.layers.Dense(128, activation=tf.nn.relu),\n",
        "                          keras.layers.Dense(10, activation=tf.nn.softmax) #The last layer has 10 neurons in it because we have ten classes of clothing in the dataset.\n",
        "])"
      ],
      "execution_count": 85,
      "outputs": []
    },
    {
      "cell_type": "code",
      "metadata": {
        "colab": {
          "base_uri": "https://localhost:8080/"
        },
        "id": "GB7bKEsEOK2c",
        "outputId": "540acc1e-0e3c-4303-d5d1-63e85bc6ee8e"
      },
      "source": [
        "model.compile(optimizer = tf.optimizers.Adam(),\n",
        "              loss=\"sparse_categorical_crossentropy\")\n",
        "model.fit(train_images,train_labels, epochs=5, callbacks=[callbacks])"
      ],
      "execution_count": 86,
      "outputs": [
        {
          "output_type": "stream",
          "text": [
            "Epoch 1/5\n",
            "1875/1875 [==============================] - 4s 2ms/step - loss: 0.6282\n",
            "Epoch 2/5\n",
            "1875/1875 [==============================] - 4s 2ms/step - loss: 0.3879\n",
            "\n",
            "Reached 60% accuracy so cancelling training!\n"
          ],
          "name": "stdout"
        },
        {
          "output_type": "execute_result",
          "data": {
            "text/plain": [
              "<tensorflow.python.keras.callbacks.History at 0x7f84567acd10>"
            ]
          },
          "metadata": {
            "tags": []
          },
          "execution_count": 86
        }
      ]
    },
    {
      "cell_type": "code",
      "metadata": {
        "colab": {
          "base_uri": "https://localhost:8080/"
        },
        "id": "MOi5d--pOr-L",
        "outputId": "5267dbd9-70be-4ed6-f201-7e1b418f6422"
      },
      "source": [
        "model.evaluate(test_images, test_labels)"
      ],
      "execution_count": 87,
      "outputs": [
        {
          "output_type": "stream",
          "text": [
            "313/313 [==============================] - 0s 1ms/step - loss: 0.3786\n"
          ],
          "name": "stdout"
        },
        {
          "output_type": "execute_result",
          "data": {
            "text/plain": [
              "0.37859246134757996"
            ]
          },
          "metadata": {
            "tags": []
          },
          "execution_count": 87
        }
      ]
    },
    {
      "cell_type": "code",
      "metadata": {
        "id": "FufWBnB5R9T4"
      },
      "source": [
        ""
      ],
      "execution_count": null,
      "outputs": []
    }
  ]
}